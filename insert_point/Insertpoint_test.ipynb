{
 "cells": [
  {
   "cell_type": "code",
   "execution_count": 3,
   "metadata": {},
   "outputs": [],
   "source": [
    "import numpy as np\n",
    "import matplotlib.pyplot as plt\n",
    "import seaborn as sns\n",
    "np.random.seed(0) # Keep it consistent"
   ]
  },
  {
   "cell_type": "code",
   "execution_count": 4,
   "metadata": {},
   "outputs": [],
   "source": [
    "sns.set_style(\"whitegrid\")\n",
    "%matplotlib inline"
   ]
  },
  {
   "cell_type": "code",
   "execution_count": 7,
   "metadata": {},
   "outputs": [
    {
     "data": {
      "text/plain": [
       "<matplotlib.collections.PathCollection at 0x11cabefd0>"
      ]
     },
     "execution_count": 7,
     "metadata": {},
     "output_type": "execute_result"
    },
    {
     "data": {
      "image/png": "[encoded data removed]",
      "text/plain": [
       "<Figure size 432x288 with 1 Axes>"
      ]
     },
     "metadata": {
      "needs_background": "light"
     },
     "output_type": "display_data"
    }
   ],
   "source": [
    "# Get random data \n",
    "x_inital = np.random.randn(100,2)\n",
    "plt.scatter(x_inital[:,0], x_inital[:,1])"
   ]
  },
  {
   "cell_type": "code",
   "execution_count": 10,
   "metadata": {},
   "outputs": [],
   "source": [
    "# Get a new point ! \n",
    "x_new = np.random.randn(1,2)\n",
    "# Create the updated data set \n",
    "x = np.zeros((101,2))\n",
    "x[0:100,:] = x_inital\n",
    "x[100:,:] = x_new"
   ]
  },
  {
   "cell_type": "code",
   "execution_count": 11,
   "metadata": {},
   "outputs": [
    {
     "data": {
      "text/plain": [
       "<matplotlib.collections.PathCollection at 0x11cb295f8>"
      ]
     },
     "execution_count": 11,
     "metadata": {},
     "output_type": "execute_result"
    },
    {
     "data": {
      "image/png": "[encoded data removed]",
      "text/plain": [
       "<Figure size 432x288 with 1 Axes>"
      ]
     },
     "metadata": {
      "needs_background": "light"
     },
     "output_type": "display_data"
    }
   ],
   "source": [
    "# plot the updated data set\n",
    "plt.scatter(x[:,0], x[:,1], c=\"#43c0ac\")\n",
    "plt.scatter(x_inital[:,0], x_inital[:,1], c=\"#ff7657\")"
   ]
  },
  {
   "cell_type": "code",
   "execution_count": 42,
   "metadata": {},
   "outputs": [
    {
     "data": {
      "text/plain": [
       "<matplotlib.collections.PathCollection at 0x11d36ff98>"
      ]
     },
     "execution_count": 42,
     "metadata": {},
     "output_type": "execute_result"
    },
    {
     "data": {
      "image/png": "[encoded data removed]",
      "text/plain": [
       "<Figure size 432x288 with 1 Axes>"
      ]
     },
     "metadata": {
      "needs_background": "light"
     },
     "output_type": "display_data"
    }
   ],
   "source": [
    "# Generate the bounding box\n",
    "# Note that the box is first generated based on the inital data\n",
    "B_s = np.zeros((x.shape[1],2))# [min, max] of dx2\n",
    "B_s[:,0] = np.min(x_inital, axis=0) # min of column x_inital\n",
    "B_s[:,1] = np.max(x_inital, axis=0) # max of column x_inital \n",
    "plt.axvspan(B_s[0,0], B_s[0,1], facecolor='g', alpha=0.25)\n",
    "plt.axhspan(B_s[1,0], B_s[1,1], facecolor='b', alpha=0.25)\n",
    "plt.scatter(x_inital[:,0], x_inital[:,1], c=\"#ff7657\")"
   ]
  },
  {
   "cell_type": "code",
   "execution_count": 54,
   "metadata": {},
   "outputs": [],
   "source": [
    "# Update the bounding box based on the internal point\n",
    "# This is stupid ! why not just do it in the above.\n",
    "B_s[:,0] = np.minimum(B_s[:,0], x_new) # compare element wise \n",
    "B_s[:,1] = np.maximum(B_s[:,1], x_new)"
   ]
  },
  {
   "cell_type": "code",
   "execution_count": 67,
   "metadata": {},
   "outputs": [
    {
     "name": "stdout",
     "output_type": "stream",
     "text": [
      "2.6311019230334645\n"
     ]
    }
   ],
   "source": [
    "# Find r \n",
    "temp_sum = sum(B_s[:,1]-B_s[:,0])\n",
    "r = np.random.choice(np.linspace(0, temp_sum, int(temp_sum*10)), 1)[0]\n",
    "print(r)"
   ]
  },
  {
   "cell_type": "code",
   "execution_count": 71,
   "metadata": {},
   "outputs": [],
   "source": [
    "# Identify the cut.\n",
    "temp_diff = B_s[:,1]-B_s[:,0]\n",
    "obj = np.cumsum(temp_diff)"
   ]
  },
  {
   "cell_type": "code",
   "execution_count": 78,
   "metadata": {},
   "outputs": [],
   "source": [
    "j = 9999\n",
    "for i in range(0,len(obj)):\n",
    "    if obj[i] >= r:\n",
    "        j = i\n",
    "        break"
   ]
  },
  {
   "cell_type": "code",
   "execution_count": 80,
   "metadata": {},
   "outputs": [],
   "source": [
    "cut = B_s[j,0] + obj[j] - r"
   ]
  },
  {
   "cell_type": "code",
   "execution_count": 81,
   "metadata": {},
   "outputs": [
    {
     "data": {
      "text/plain": [
       "0.06512212953011476"
      ]
     },
     "execution_count": 81,
     "metadata": {},
     "output_type": "execute_result"
    }
   ],
   "source": [
    "cut"
   ]
  },
  {
   "cell_type": "code",
   "execution_count": 83,
   "metadata": {},
   "outputs": [],
   "source": [
    "def InsertPoint_cut(S ,p):\n",
    "    \"\"\"\n",
    "    Generates the cut dimension and cut value \n",
    "    based on the Insertpoint algorithm \n",
    "    ---- \n",
    "    Inputs:\n",
    "    S : Set of point to be split (numpy array (n x d))\n",
    "    p : New point to be inserted (numpy array (1 x d))\n",
    "    \n",
    "    Returs:\n",
    "    dimenstion for cut, cut value \n",
    "    ----\n",
    "    Example:\n",
    "    InsertPoint_cut(x_inital, x_new)\n",
    "    (0, 0.9758881798109296)\n",
    "    \"\"\"\n",
    "    # Generate the bounding box\n",
    "    \n",
    "    # Note that the box is first generated based on the inital data\n",
    "    B_s = np.zeros((S.shape[1],2))# [min, max] of dx2\n",
    "    B_s[:,0] = np.min(S, axis=0) # min of column x_inital\n",
    "    B_s[:,1] = np.max(S, axis=0) # max of column x_inital \n",
    "    \n",
    "    # Update the bounding box based on the internal point\n",
    "    \n",
    "    # This is stupid ! why not just do it in the above.\n",
    "    B_s[:,0] = np.minimum(B_s[:,0], p) # compare element wise \n",
    "    B_s[:,1] = np.maximum(B_s[:,1], p)\n",
    "    \n",
    "    # Find r \n",
    "    temp_sum = sum(B_s[:,1]-B_s[:,0])\n",
    "    # resolution of r increases as the r magnitude increases, 10 times for now.\n",
    "    temp_len = np.linspace(0, temp_sum, int(temp_sum*10)) \n",
    "    r = np.random.choice(temp_len, 1)[0] # returns a float.\n",
    "    \n",
    "    # Identify the cut.\n",
    "    temp_diff = B_s[:,1]-B_s[:,0]\n",
    "    obj = np.cumsum(temp_diff)\n",
    "    \n",
    "    cut_dimenstion = 9999 # Hope we do not have 999 dimentional data\n",
    "    for i in range(0,len(obj)):\n",
    "        if obj[i] >= r:\n",
    "            cut_dimenstion = i\n",
    "            break\n",
    "            \n",
    "    cut = B_s[j,0] + obj[j] - r\n",
    "    \n",
    "    return cut_dimenstion, cut"
   ]
  },
  {
   "cell_type": "code",
   "execution_count": 87,
   "metadata": {},
   "outputs": [
    {
     "data": {
      "text/plain": [
       "(0, 0.9758881798109296)"
      ]
     },
     "execution_count": 87,
     "metadata": {},
     "output_type": "execute_result"
    }
   ],
   "source": [
    "InsertPoint_cut(x_inital, x_new)"
   ]
  },
  {
   "cell_type": "code",
   "execution_count": null,
   "metadata": {},
   "outputs": [],
   "source": []
  }
 ],
 "metadata": {
  "kernelspec": {
   "display_name": "Python 3",
   "language": "python",
   "name": "python3"
  },
  "language_info": {
   "codemirror_mode": {
    "name": "ipython",
    "version": 3
   },
   "file_extension": ".py",
   "mimetype": "text/x-python",
   "name": "python",
   "nbconvert_exporter": "python",
   "pygments_lexer": "ipython3",
   "version": "3.7.0"
  }
 },
 "nbformat": 4,
 "nbformat_minor": 2
}
